{
  "nbformat": 4,
  "nbformat_minor": 0,
  "metadata": {
    "colab": {
      "provenance": []
    },
    "kernelspec": {
      "name": "python3",
      "display_name": "Python 3"
    },
    "language_info": {
      "name": "python"
    }
  },
  "cells": [
    {
      "cell_type": "markdown",
      "source": [
        "1.Getting familiar with pandas."
      ],
      "metadata": {
        "id": "M-W7V2NpP6mC"
      }
    },
    {
      "cell_type": "code",
      "execution_count": 1,
      "metadata": {
        "id": "_3Q5tT7V_8HV"
      },
      "outputs": [],
      "source": [
        "import pandas as pd"
      ]
    },
    {
      "cell_type": "code",
      "source": [
        "# Creating a Series from a list\n",
        "series = pd.Series([10, 20, 30, 40, 50])\n",
        "print(\"Series from list:\")\n",
        "print(series)\n"
      ],
      "metadata": {
        "id": "7fCSHEINATMy",
        "colab": {
          "base_uri": "https://localhost:8080/"
        },
        "outputId": "845e3fca-b80b-4be8-c849-ef539f21c927"
      },
      "execution_count": 2,
      "outputs": [
        {
          "output_type": "stream",
          "name": "stdout",
          "text": [
            "Series from list:\n",
            "0    10\n",
            "1    20\n",
            "2    30\n",
            "3    40\n",
            "4    50\n",
            "dtype: int64\n"
          ]
        }
      ]
    },
    {
      "cell_type": "code",
      "source": [
        "# Creating a DataFrame from a dictionary\n",
        "data = {\n",
        "    'Name': ['sudha', 'vardhan', 'sasank', 'sai'],\n",
        "    'Age': [25, 32, 23, 45],\n",
        "    'City': ['New York', 'india', 'Chicago', 'UK']\n",
        "}\n",
        "df = pd.DataFrame(data)\n",
        "print(\"\\nDataFrame from dictionary:\")\n",
        "print(df)\n"
      ],
      "metadata": {
        "id": "NzXugOqyLegA",
        "colab": {
          "base_uri": "https://localhost:8080/"
        },
        "outputId": "a0d032ad-13d0-4f26-b155-6c98bb01d689"
      },
      "execution_count": 3,
      "outputs": [
        {
          "output_type": "stream",
          "name": "stdout",
          "text": [
            "\n",
            "DataFrame from dictionary:\n",
            "      Name  Age      City\n",
            "0    sudha   25  New York\n",
            "1  vardhan   32     india\n",
            "2   sasank   23   Chicago\n",
            "3      sai   45        UK\n"
          ]
        }
      ]
    },
    {
      "cell_type": "markdown",
      "source": [
        "Operations on Dataframes:"
      ],
      "metadata": {
        "id": "ycAObdW-Lr7Q"
      }
    },
    {
      "cell_type": "markdown",
      "source": [
        "Selecting data(single column and multiple column):"
      ],
      "metadata": {
        "id": "ad6I2LFbL7Uu"
      }
    },
    {
      "cell_type": "code",
      "source": [
        "age_column = df['Age']\n",
        "print(\"\\nSelected column (Age):\")\n",
        "print(age_column)\n",
        "\n",
        "# Selecting multiple columns\n",
        "subset = df[['Name', 'Age']]\n",
        "print(\"\\nSubset of DataFrame:\\n\", subset)"
      ],
      "metadata": {
        "id": "bB7fhM_dLgtB",
        "colab": {
          "base_uri": "https://localhost:8080/"
        },
        "outputId": "a1c38573-dd4a-468a-b69f-b5361891efe6"
      },
      "execution_count": 4,
      "outputs": [
        {
          "output_type": "stream",
          "name": "stdout",
          "text": [
            "\n",
            "Selected column (Age):\n",
            "0    25\n",
            "1    32\n",
            "2    23\n",
            "3    45\n",
            "Name: Age, dtype: int64\n",
            "\n",
            "Subset of DataFrame:\n",
            "       Name  Age\n",
            "0    sudha   25\n",
            "1  vardhan   32\n",
            "2   sasank   23\n",
            "3      sai   45\n"
          ]
        }
      ]
    },
    {
      "cell_type": "markdown",
      "source": [
        "Filtering data:"
      ],
      "metadata": {
        "id": "-ZfeF3dNL_jy"
      }
    },
    {
      "cell_type": "code",
      "source": [
        "#Based on a condition\n",
        "filtered_df = df[df['Age'] > 30]\n",
        "print(\"\\nFiltered DataFrame (Age > 30):\")\n",
        "print(filtered_df)"
      ],
      "metadata": {
        "id": "Y5UpesnLMBSB",
        "colab": {
          "base_uri": "https://localhost:8080/"
        },
        "outputId": "217b327b-a5dc-48b1-9462-8fa87aad2b4f"
      },
      "execution_count": 5,
      "outputs": [
        {
          "output_type": "stream",
          "name": "stdout",
          "text": [
            "\n",
            "Filtered DataFrame (Age > 30):\n",
            "      Name  Age   City\n",
            "1  vardhan   32  india\n",
            "3      sai   45     UK\n"
          ]
        }
      ]
    },
    {
      "cell_type": "markdown",
      "source": [
        "Modifying of data:"
      ],
      "metadata": {
        "id": "kWAxXFwEMKGu"
      }
    },
    {
      "cell_type": "code",
      "source": [
        "df.loc[0, 'Age'] = 35  # Update a single value\n",
        "print(\"\\nDataFrame after modifying age of the first entry:\\n\", df)"
      ],
      "metadata": {
        "id": "E05dhaGfMMAR",
        "colab": {
          "base_uri": "https://localhost:8080/"
        },
        "outputId": "9f4089b8-a250-4bc6-820d-65aa1ec7a593"
      },
      "execution_count": 6,
      "outputs": [
        {
          "output_type": "stream",
          "name": "stdout",
          "text": [
            "\n",
            "DataFrame after modifying age of the first entry:\n",
            "       Name  Age      City\n",
            "0    sudha   35  New York\n",
            "1  vardhan   32     india\n",
            "2   sasank   23   Chicago\n",
            "3      sai   45        UK\n"
          ]
        }
      ]
    },
    {
      "cell_type": "markdown",
      "source": [
        "2. Data Handling with Pandas"
      ],
      "metadata": {
        "id": "pCHWs81XMPtA"
      }
    },
    {
      "cell_type": "code",
      "source": [
        "#create df with missing values\n",
        "data_with_missing = {\n",
        "    'Product': ['A', 'B', 'C', None],\n",
        "    'Price': [100, 200, None, 400]\n",
        "}\n",
        "df_missing = pd.DataFrame(data_with_missing)\n",
        "print(\"\\nDataFrame with missing values:\")\n",
        "print(df_missing)"
      ],
      "metadata": {
        "id": "4Ete5A3wMmYb",
        "colab": {
          "base_uri": "https://localhost:8080/"
        },
        "outputId": "df958bde-ef32-49d6-91f6-1a319c0e6b1b"
      },
      "execution_count": 7,
      "outputs": [
        {
          "output_type": "stream",
          "name": "stdout",
          "text": [
            "\n",
            "DataFrame with missing values:\n",
            "  Product  Price\n",
            "0       A  100.0\n",
            "1       B  200.0\n",
            "2       C    NaN\n",
            "3    None  400.0\n"
          ]
        }
      ]
    },
    {
      "cell_type": "markdown",
      "source": [
        "Handling"
      ],
      "metadata": {
        "id": "Xiu1MC-1V8Ol"
      }
    },
    {
      "cell_type": "code",
      "source": [
        "df_filled = df_missing.fillna(0)\n",
        "print(\"\\nDataFrame after filling missing values with 0:\")\n",
        "print(df_filled)"
      ],
      "metadata": {
        "id": "APgAgObuV-0M",
        "colab": {
          "base_uri": "https://localhost:8080/"
        },
        "outputId": "cafd72fd-5290-4841-cf73-3d54e9057f1f"
      },
      "execution_count": 8,
      "outputs": [
        {
          "output_type": "stream",
          "name": "stdout",
          "text": [
            "\n",
            "DataFrame after filling missing values with 0:\n",
            "  Product  Price\n",
            "0       A  100.0\n",
            "1       B  200.0\n",
            "2       C    0.0\n",
            "3       0  400.0\n"
          ]
        }
      ]
    },
    {
      "cell_type": "markdown",
      "source": [
        "Checking missing data"
      ],
      "metadata": {
        "id": "SEASLeLsMs-1"
      }
    },
    {
      "cell_type": "code",
      "source": [
        "print(\"\\nDataFrame with missing values:\\n\", df_missing)\n",
        "print(\"\\nChecking for missing data:\\n\", df_missing.isnull())"
      ],
      "metadata": {
        "id": "AhWzlrsJMu68",
        "colab": {
          "base_uri": "https://localhost:8080/"
        },
        "outputId": "0d7b9306-3dbb-48ef-c10f-6db2e56f93ef"
      },
      "execution_count": 11,
      "outputs": [
        {
          "output_type": "stream",
          "name": "stdout",
          "text": [
            "\n",
            "DataFrame with missing values:\n",
            "   Product  Price\n",
            "0       A  100.0\n",
            "1       B  200.0\n",
            "2       C    NaN\n",
            "3    None  400.0\n",
            "\n",
            "Checking for missing data:\n",
            "    Product  Price\n",
            "0    False  False\n",
            "1    False  False\n",
            "2    False   True\n",
            "3     True  False\n"
          ]
        }
      ]
    },
    {
      "cell_type": "markdown",
      "source": [
        "Conversion of data types:"
      ],
      "metadata": {
        "id": "Rm8p0KqRNAaW"
      }
    },
    {
      "cell_type": "code",
      "source": [
        "df['Age'] = df['Age'].astype(float)\n",
        "print(\"\\nDataFrame with 'Age' converted to float:\")\n",
        "print(df)"
      ],
      "metadata": {
        "id": "EFaOaxjfNCpe",
        "colab": {
          "base_uri": "https://localhost:8080/"
        },
        "outputId": "4177c604-5f0a-4abb-9fb3-fe24ef63b417"
      },
      "execution_count": 10,
      "outputs": [
        {
          "output_type": "stream",
          "name": "stdout",
          "text": [
            "\n",
            "DataFrame with 'Age' converted to float:\n",
            "      Name   Age      City\n",
            "0    sudha  35.0  New York\n",
            "1  vardhan  32.0     india\n",
            "2   sasank  23.0   Chicago\n",
            "3      sai  45.0        UK\n"
          ]
        }
      ]
    },
    {
      "cell_type": "markdown",
      "source": [
        "3. Data Analysis with Pandas"
      ],
      "metadata": {
        "id": "V9m-UlLNNGWZ"
      }
    },
    {
      "cell_type": "code",
      "source": [
        "print(\"\\nSummary statistics of the DataFrame:\")\n",
        "print(df.describe())"
      ],
      "metadata": {
        "id": "zsh_8IFwNhxB",
        "colab": {
          "base_uri": "https://localhost:8080/"
        },
        "outputId": "45a45517-64d8-4ddb-8bb7-9577f47b88e6"
      },
      "execution_count": 12,
      "outputs": [
        {
          "output_type": "stream",
          "name": "stdout",
          "text": [
            "\n",
            "Summary statistics of the DataFrame:\n",
            "             Age\n",
            "count   4.000000\n",
            "mean   33.750000\n",
            "std     9.069179\n",
            "min    23.000000\n",
            "25%    29.750000\n",
            "50%    33.500000\n",
            "75%    37.500000\n",
            "max    45.000000\n"
          ]
        }
      ]
    },
    {
      "cell_type": "markdown",
      "source": [
        "Grouping Data and Applying Aggregate Functions:"
      ],
      "metadata": {
        "id": "16KbeaPKNmg6"
      }
    },
    {
      "cell_type": "code",
      "source": [
        "grouped_df = df.groupby('City').agg({'Age': 'mean'})\n",
        "print(\"\\nGrouped data by City with mean Age:\")\n",
        "print(grouped_df)"
      ],
      "metadata": {
        "id": "fJWOODpBNnAn",
        "colab": {
          "base_uri": "https://localhost:8080/"
        },
        "outputId": "2317c872-ff5e-497a-a154-332c14194a07"
      },
      "execution_count": 13,
      "outputs": [
        {
          "output_type": "stream",
          "name": "stdout",
          "text": [
            "\n",
            "Grouped data by City with mean Age:\n",
            "           Age\n",
            "City          \n",
            "Chicago   23.0\n",
            "New York  35.0\n",
            "UK        45.0\n",
            "india     32.0\n"
          ]
        }
      ]
    },
    {
      "cell_type": "markdown",
      "source": [
        "Merging two dataframes"
      ],
      "metadata": {
        "id": "yAnB2oeqNqSw"
      }
    },
    {
      "cell_type": "code",
      "source": [
        "df1 = pd.DataFrame({'ID': [1, 2, 3], 'Name': ['Alice', 'Bob', 'Charlie']})\n",
        "df2 = pd.DataFrame({'ID': [2, 3, 4], 'Salary': [70000, 80000, 90000]})\n",
        "merged_df = pd.merge(df1, df2, on='ID', how='outer')\n",
        "print(\"\\nMerged DataFrame:\")\n",
        "print(merged_df)"
      ],
      "metadata": {
        "id": "qioLlGhkNt3L",
        "colab": {
          "base_uri": "https://localhost:8080/"
        },
        "outputId": "60a449f7-40ae-46d3-8216-70b12780b7cf"
      },
      "execution_count": 14,
      "outputs": [
        {
          "output_type": "stream",
          "name": "stdout",
          "text": [
            "\n",
            "Merged DataFrame:\n",
            "   ID     Name   Salary\n",
            "0   1    Alice      NaN\n",
            "1   2      Bob  70000.0\n",
            "2   3  Charlie  80000.0\n",
            "3   4      NaN  90000.0\n"
          ]
        }
      ]
    },
    {
      "cell_type": "markdown",
      "source": [
        "Concatenation"
      ],
      "metadata": {
        "id": "M-tD2QO6NwSz"
      }
    },
    {
      "cell_type": "code",
      "source": [
        "df3 = pd.DataFrame({'Name': ['Eve', 'Frank'], 'Age': [29, 36]})\n",
        "concatenated_df = pd.concat([df, df3], ignore_index=True)\n",
        "print(\"\\nConcatenated DataFrame:\")\n",
        "print(concatenated_df)"
      ],
      "metadata": {
        "id": "kuk2sopfNyyH",
        "colab": {
          "base_uri": "https://localhost:8080/"
        },
        "outputId": "547d52fd-0137-48b2-cbae-3694bc6dac83"
      },
      "execution_count": 15,
      "outputs": [
        {
          "output_type": "stream",
          "name": "stdout",
          "text": [
            "\n",
            "Concatenated DataFrame:\n",
            "      Name   Age      City\n",
            "0    sudha  35.0  New York\n",
            "1  vardhan  32.0     india\n",
            "2   sasank  23.0   Chicago\n",
            "3      sai  45.0        UK\n",
            "4      Eve  29.0       NaN\n",
            "5    Frank  36.0       NaN\n"
          ]
        }
      ]
    },
    {
      "cell_type": "markdown",
      "source": [
        "4.Application in Data Science"
      ],
      "metadata": {
        "id": "CisWgBUPN7qF"
      }
    },
    {
      "cell_type": "markdown",
      "source": [
        "Efficiency: Pandas is built on top of NumPy and provides optimized performance for data manipulation tasks.\n",
        "\n",
        "Ease of Use: Pandas offers an intuitive and user-friendly API for data manipulation, making complex tasks simpler and faster.\n",
        "\n",
        "Integration: Pandas integrates well with other Python libraries such as Matplotlib, Seaborn, and Scikit-learn, enhancing its utility in data science workflows.\n",
        "\n",
        "Handling Large Datasets: Pandas allows efficient handling of large datasets, enabling data scientists to perform filtering, merging, and aggregation tasks quickly."
      ],
      "metadata": {
        "id": "KE9umn7LN9US"
      }
    },
    {
      "cell_type": "markdown",
      "source": [
        "Real-world examples:"
      ],
      "metadata": {
        "id": "MDXRVeBGWotl"
      }
    },
    {
      "cell_type": "markdown",
      "source": [
        "Data Cleaning: Data scientists often use Pandas to clean datasets by handling missing values, removing duplicates, and converting data types. For example, filling missing values with fillna() or dropping them with dropna().\n",
        "\n",
        "Exploratory Data Analysis (EDA): Pandas is used to summarize data, visualize trends, and explore relationships between variables. Functions like describe(), groupby(), and plot() are commonly used for EDA.\n",
        "\n",
        "Time Series Analysis: In finance and economics, Pandas is used for time series data analysis, allowing data scientists to resample, shift, and manipulate time series data effectively."
      ],
      "metadata": {
        "id": "on_sZRglOAY8"
      }
    },
    {
      "cell_type": "markdown",
      "source": [
        "Conclusion"
      ],
      "metadata": {
        "id": "4eL1rwFnOYts"
      }
    },
    {
      "cell_type": "markdown",
      "source": [
        "By working through the examples above, you will gain a solid understanding of how Pandas can be used for data handling and analysis in data science. Pandas is a powerful tool that simplifies data preparation and analysis tasks, making it indispensable for data science professionals dealing with real-world data."
      ],
      "metadata": {
        "id": "DbtTXYw0OZzN"
      }
    }
  ]
}