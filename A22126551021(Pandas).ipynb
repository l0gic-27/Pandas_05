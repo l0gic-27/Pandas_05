{
  "nbformat": 4,
  "nbformat_minor": 0,
  "metadata": {
    "colab": {
      "provenance": []
    },
    "kernelspec": {
      "name": "python3",
      "display_name": "Python 3"
    },
    "language_info": {
      "name": "python"
    }
  },
  "cells": [
    {
      "cell_type": "markdown",
      "source": [
        "1.Getting familiar with pandas."
      ],
      "metadata": {
        "id": "M-W7V2NpP6mC"
      }
    },
    {
      "cell_type": "code",
      "execution_count": 2,
      "metadata": {
        "id": "_3Q5tT7V_8HV"
      },
      "outputs": [],
      "source": [
        "import pandas as pd"
      ]
    },
    {
      "cell_type": "code",
      "source": [
        "# Creating a Series from a list\n",
        "series = pd.Series([10, 20, 30, 40, 50])\n",
        "print(\"Series from list:\")\n",
        "print(series)\n"
      ],
      "metadata": {
        "id": "7fCSHEINATMy"
      },
      "execution_count": null,
      "outputs": []
    },
    {
      "cell_type": "code",
      "source": [
        "# Creating a DataFrame from a dictionary\n",
        "data = {\n",
        "    'Name': ['sudha', 'vardhan', 'sasank', 'sai'],\n",
        "    'Age': [25, 32, 23, 45],\n",
        "    'City': ['New York', 'india', 'Chicago', 'UK']\n",
        "}\n",
        "df = pd.DataFrame(data)\n",
        "print(\"\\nDataFrame from dictionary:\")\n",
        "print(df)\n"
      ],
      "metadata": {
        "id": "NzXugOqyLegA"
      },
      "execution_count": null,
      "outputs": []
    },
    {
      "cell_type": "markdown",
      "source": [
        "Operations on Dataframes:"
      ],
      "metadata": {
        "id": "ycAObdW-Lr7Q"
      }
    },
    {
      "cell_type": "markdown",
      "source": [
        "Selecting data(single column and multiple column):"
      ],
      "metadata": {
        "id": "ad6I2LFbL7Uu"
      }
    },
    {
      "cell_type": "code",
      "source": [
        "age_column = df['Age']\n",
        "print(\"\\nSelected column (Age):\")\n",
        "print(age_column)\n",
        "\n",
        "# Selecting multiple columns\n",
        "subset = df[['Name', 'Age']]\n",
        "print(\"\\nSubset of DataFrame:\\n\", subset)"
      ],
      "metadata": {
        "id": "bB7fhM_dLgtB"
      },
      "execution_count": null,
      "outputs": []
    },
    {
      "cell_type": "markdown",
      "source": [
        "Filtering data:"
      ],
      "metadata": {
        "id": "-ZfeF3dNL_jy"
      }
    },
    {
      "cell_type": "code",
      "source": [
        "#Based on a condition\n",
        "filtered_df = df[df['Age'] > 30]\n",
        "print(\"\\nFiltered DataFrame (Age > 30):\")\n",
        "print(filtered_df)"
      ],
      "metadata": {
        "id": "Y5UpesnLMBSB"
      },
      "execution_count": null,
      "outputs": []
    },
    {
      "cell_type": "markdown",
      "source": [
        "Modifying of data:"
      ],
      "metadata": {
        "id": "kWAxXFwEMKGu"
      }
    },
    {
      "cell_type": "code",
      "source": [
        "df.loc[0, 'Age'] = 35  # Update a single value\n",
        "print(\"\\nDataFrame after modifying age of the first entry:\\n\", df)"
      ],
      "metadata": {
        "id": "E05dhaGfMMAR"
      },
      "execution_count": null,
      "outputs": []
    },
    {
      "cell_type": "markdown",
      "source": [
        "2. Data Handling with Pandas"
      ],
      "metadata": {
        "id": "pCHWs81XMPtA"
      }
    },
    {
      "cell_type": "code",
      "source": [
        "#create df with missing values\n",
        "data_with_missing = {\n",
        "    'Product': ['A', 'B', 'C', None],\n",
        "    'Price': [100, 200, None, 400]\n",
        "}\n",
        "df_missing = pd.DataFrame(data_with_missing)\n",
        "print(\"\\nDataFrame with missing values:\")\n",
        "print(df_missing)"
      ],
      "metadata": {
        "id": "4Ete5A3wMmYb"
      },
      "execution_count": null,
      "outputs": []
    },
    {
      "cell_type": "markdown",
      "source": [
        "Handling"
      ],
      "metadata": {
        "id": "Xiu1MC-1V8Ol"
      }
    },
    {
      "cell_type": "code",
      "source": [
        "df_filled = df_missing.fillna(0)\n",
        "print(\"\\nDataFrame after filling missing values with 0:\")\n",
        "print(df_filled)"
      ],
      "metadata": {
        "id": "APgAgObuV-0M"
      },
      "execution_count": null,
      "outputs": []
    },
    {
      "cell_type": "markdown",
      "source": [
        "Checking missing data"
      ],
      "metadata": {
        "id": "SEASLeLsMs-1"
      }
    },
    {
      "cell_type": "code",
      "source": [
        "print(\"\\nDataFrame with missing values:\\n\", df_with_missing)\n",
        "print(\"\\nChecking for missing data:\\n\", df_with_missing.isnull())"
      ],
      "metadata": {
        "id": "AhWzlrsJMu68"
      },
      "execution_count": null,
      "outputs": []
    },
    {
      "cell_type": "markdown",
      "source": [
        "Conversion of data types:"
      ],
      "metadata": {
        "id": "Rm8p0KqRNAaW"
      }
    },
    {
      "cell_type": "code",
      "source": [
        "df['Age'] = df['Age'].astype(float)\n",
        "print(\"\\nDataFrame with 'Age' converted to float:\")\n",
        "print(df)"
      ],
      "metadata": {
        "id": "EFaOaxjfNCpe"
      },
      "execution_count": null,
      "outputs": []
    },
    {
      "cell_type": "markdown",
      "source": [
        "3. Data Analysis with Pandas"
      ],
      "metadata": {
        "id": "V9m-UlLNNGWZ"
      }
    },
    {
      "cell_type": "code",
      "source": [
        "print(\"\\nSummary statistics of the DataFrame:\")\n",
        "print(df.describe())"
      ],
      "metadata": {
        "id": "zsh_8IFwNhxB"
      },
      "execution_count": null,
      "outputs": []
    },
    {
      "cell_type": "markdown",
      "source": [
        "Grouping Data and Applying Aggregate Functions:"
      ],
      "metadata": {
        "id": "16KbeaPKNmg6"
      }
    },
    {
      "cell_type": "code",
      "source": [
        "grouped_df = df.groupby('City').agg({'Age': 'mean'})\n",
        "print(\"\\nGrouped data by City with mean Age:\")\n",
        "print(grouped_df)"
      ],
      "metadata": {
        "id": "fJWOODpBNnAn"
      },
      "execution_count": null,
      "outputs": []
    },
    {
      "cell_type": "markdown",
      "source": [
        "Merging two dataframes"
      ],
      "metadata": {
        "id": "yAnB2oeqNqSw"
      }
    },
    {
      "cell_type": "code",
      "source": [
        "df1 = pd.DataFrame({'ID': [1, 2, 3], 'Name': ['Alice', 'Bob', 'Charlie']})\n",
        "df2 = pd.DataFrame({'ID': [2, 3, 4], 'Salary': [70000, 80000, 90000]})\n",
        "merged_df = pd.merge(df1, df2, on='ID', how='outer')\n",
        "print(\"\\nMerged DataFrame:\")\n",
        "print(merged_df)"
      ],
      "metadata": {
        "id": "qioLlGhkNt3L"
      },
      "execution_count": null,
      "outputs": []
    },
    {
      "cell_type": "markdown",
      "source": [
        "Concatenation"
      ],
      "metadata": {
        "id": "M-tD2QO6NwSz"
      }
    },
    {
      "cell_type": "code",
      "source": [
        "df3 = pd.DataFrame({'Name': ['Eve', 'Frank'], 'Age': [29, 36]})\n",
        "concatenated_df = pd.concat([df, df3], ignore_index=True)\n",
        "print(\"\\nConcatenated DataFrame:\")\n",
        "print(concatenated_df)"
      ],
      "metadata": {
        "id": "kuk2sopfNyyH"
      },
      "execution_count": null,
      "outputs": []
    },
    {
      "cell_type": "markdown",
      "source": [
        "4.Application in Data Science"
      ],
      "metadata": {
        "id": "CisWgBUPN7qF"
      }
    },
    {
      "cell_type": "markdown",
      "source": [
        "Efficiency: Pandas is built on top of NumPy and provides optimized performance for data manipulation tasks.\n",
        "\n",
        "Ease of Use: Pandas offers an intuitive and user-friendly API for data manipulation, making complex tasks simpler and faster.\n",
        "\n",
        "Integration: Pandas integrates well with other Python libraries such as Matplotlib, Seaborn, and Scikit-learn, enhancing its utility in data science workflows.\n",
        "\n",
        "Handling Large Datasets: Pandas allows efficient handling of large datasets, enabling data scientists to perform filtering, merging, and aggregation tasks quickly."
      ],
      "metadata": {
        "id": "KE9umn7LN9US"
      }
    },
    {
      "cell_type": "markdown",
      "source": [
        "Real-world examples:"
      ],
      "metadata": {
        "id": "MDXRVeBGWotl"
      }
    },
    {
      "cell_type": "markdown",
      "source": [
        "Data Cleaning: Data scientists often use Pandas to clean datasets by handling missing values, removing duplicates, and converting data types. For example, filling missing values with fillna() or dropping them with dropna().\n",
        "\n",
        "Exploratory Data Analysis (EDA): Pandas is used to summarize data, visualize trends, and explore relationships between variables. Functions like describe(), groupby(), and plot() are commonly used for EDA.\n",
        "\n",
        "Time Series Analysis: In finance and economics, Pandas is used for time series data analysis, allowing data scientists to resample, shift, and manipulate time series data effectively."
      ],
      "metadata": {
        "id": "on_sZRglOAY8"
      }
    },
    {
      "cell_type": "markdown",
      "source": [
        "Conclusion"
      ],
      "metadata": {
        "id": "4eL1rwFnOYts"
      }
    },
    {
      "cell_type": "markdown",
      "source": [
        "By working through the examples above, you will gain a solid understanding of how Pandas can be used for data handling and analysis in data science. Pandas is a powerful tool that simplifies data preparation and analysis tasks, making it indispensable for data science professionals dealing with real-world data."
      ],
      "metadata": {
        "id": "DbtTXYw0OZzN"
      }
    }
  ]
}